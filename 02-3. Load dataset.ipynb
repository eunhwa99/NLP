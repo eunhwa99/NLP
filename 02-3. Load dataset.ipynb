{
 "cells": [
  {
   "cell_type": "markdown",
   "metadata": {},
   "source": [
    "###  Loading Data from .csv file"
   ]
  },
  {
   "cell_type": "code",
   "execution_count": 1,
   "metadata": {},
   "outputs": [],
   "source": [
    "import numpy as np\n",
    "\n",
    "xy=np.loadtxt('data-01-test-score.csv',delimiter=',',dtype=np.float32)\n",
    "x_data=xy[:,:-1]\n",
    "y_data=xy[:,-1]"
   ]
  },
  {
   "cell_type": "code",
   "execution_count": 2,
   "metadata": {},
   "outputs": [
    {
     "name": "stdout",
     "output_type": "stream",
     "text": [
      "(25, 3)\n",
      "25\n",
      "[[ 73.  80.  75.]\n",
      " [ 93.  88.  93.]\n",
      " [ 89.  91.  90.]\n",
      " [ 96.  98. 100.]\n",
      " [ 73.  66.  70.]]\n"
     ]
    }
   ],
   "source": [
    "print(x_data.shape) # x_data shape\n",
    "print(len(x_data))  # x_data 길이\n",
    "print(x_data[:5])   # 첫 다섯 개"
   ]
  },
  {
   "cell_type": "code",
   "execution_count": 3,
   "metadata": {},
   "outputs": [
    {
     "name": "stdout",
     "output_type": "stream",
     "text": [
      "(25,)\n",
      "25\n",
      "[152. 185. 180. 196. 142.]\n"
     ]
    }
   ],
   "source": [
    "print(y_data.shape) # y_data shape\n",
    "print(len(y_data))  # y_data 길이\n",
    "print(y_data[:5])   # 첫 다섯 개"
   ]
  },
  {
   "cell_type": "code",
   "execution_count": 4,
   "metadata": {},
   "outputs": [],
   "source": [
    "import torch\n",
    "import torch.nn as nn\n",
    "import torch.nn.functional as F\n",
    "import torch.optim as optim"
   ]
  },
  {
   "cell_type": "code",
   "execution_count": 5,
   "metadata": {},
   "outputs": [
    {
     "data": {
      "text/plain": [
       "<torch._C.Generator at 0x296620873d0>"
      ]
     },
     "execution_count": 5,
     "metadata": {},
     "output_type": "execute_result"
    }
   ],
   "source": [
    "# For reproducibility\n",
    "torch.manual_seed(1)"
   ]
  },
  {
   "cell_type": "markdown",
   "metadata": {},
   "source": [
    "## Low-level Implementation"
   ]
  },
  {
   "cell_type": "code",
   "execution_count": 6,
   "metadata": {},
   "outputs": [
    {
     "name": "stdout",
     "output_type": "stream",
     "text": [
      "Epoch    0/20 Cost: 26811.960938\n",
      "Epoch    1/20 Cost: 10594.790039\n",
      "Epoch    2/20 Cost: 4598.844727\n",
      "Epoch    3/20 Cost: 2381.967041\n",
      "Epoch    4/20 Cost: 1562.316162\n",
      "Epoch    5/20 Cost: 1259.258545\n",
      "Epoch    6/20 Cost: 1147.200073\n",
      "Epoch    7/20 Cost: 1105.759155\n",
      "Epoch    8/20 Cost: 1090.427490\n",
      "Epoch    9/20 Cost: 1084.748901\n",
      "Epoch   10/20 Cost: 1082.639771\n",
      "Epoch   11/20 Cost: 1081.850220\n",
      "Epoch   12/20 Cost: 1081.548340\n",
      "Epoch   13/20 Cost: 1081.427002\n",
      "Epoch   14/20 Cost: 1081.372437\n",
      "Epoch   15/20 Cost: 1081.342651\n",
      "Epoch   16/20 Cost: 1081.321655\n",
      "Epoch   17/20 Cost: 1081.304199\n",
      "Epoch   18/20 Cost: 1081.288086\n",
      "Epoch   19/20 Cost: 1081.272339\n",
      "Epoch   20/20 Cost: 1081.256592\n"
     ]
    }
   ],
   "source": [
    "# 데이터\n",
    "x_train = torch.FloatTensor(x_data)\n",
    "y_train = torch.FloatTensor(y_data)\n",
    "# 모델 초기화\n",
    "W = torch.zeros((3, 1), requires_grad=True)\n",
    "b = torch.zeros(1, requires_grad=True)\n",
    "# optimizer 설정\n",
    "optimizer = optim.SGD([W, b], lr=1e-5)\n",
    "\n",
    "nb_epochs = 20\n",
    "for epoch in range(nb_epochs + 1):\n",
    "    \n",
    "    # H(x) 계산\n",
    "    hypothesis = x_train.matmul(W) + b # or .mm or @\n",
    "\n",
    "    # cost 계산\n",
    "    cost = torch.mean((hypothesis - y_train) ** 2)\n",
    "\n",
    "    # cost로 H(x) 개선\n",
    "    optimizer.zero_grad()\n",
    "    cost.backward()\n",
    "    optimizer.step()\n",
    "\n",
    "    # 100번마다 로그 출력\n",
    "    print('Epoch {:4d}/{} Cost: {:.6f}'.format(\n",
    "        epoch, nb_epochs, cost.item()\n",
    "    ))"
   ]
  },
  {
   "cell_type": "markdown",
   "metadata": {},
   "source": [
    "## High-level Implementation with nn.Module"
   ]
  },
  {
   "cell_type": "code",
   "execution_count": 7,
   "metadata": {},
   "outputs": [],
   "source": [
    "class MultivariateLinearRegressionModel(nn.Module):\n",
    "    def __init__(self):\n",
    "        super().__init__()\n",
    "        self.linear = nn.Linear(3, 1)\n",
    "\n",
    "    def forward(self, x):\n",
    "        return self.linear(x)"
   ]
  },
  {
   "cell_type": "code",
   "execution_count": 8,
   "metadata": {},
   "outputs": [
    {
     "name": "stdout",
     "output_type": "stream",
     "text": [
      "Epoch    0/20 Cost: 28657.203125\n",
      "Epoch    1/20 Cost: 11280.179688\n",
      "Epoch    2/20 Cost: 4855.401367\n",
      "Epoch    3/20 Cost: 2479.970703\n",
      "Epoch    4/20 Cost: 1601.697388\n",
      "Epoch    5/20 Cost: 1276.963745\n",
      "Epoch    6/20 Cost: 1156.889648\n",
      "Epoch    7/20 Cost: 1112.483643\n",
      "Epoch    8/20 Cost: 1096.054077\n",
      "Epoch    9/20 Cost: 1089.968628\n",
      "Epoch   10/20 Cost: 1087.707275\n",
      "Epoch   11/20 Cost: 1086.859985\n",
      "Epoch   12/20 Cost: 1086.535522\n",
      "Epoch   13/20 Cost: 1086.404297\n",
      "Epoch   14/20 Cost: 1086.344727\n",
      "Epoch   15/20 Cost: 1086.311401\n",
      "Epoch   16/20 Cost: 1086.287842\n",
      "Epoch   17/20 Cost: 1086.267944\n",
      "Epoch   18/20 Cost: 1086.249512\n",
      "Epoch   19/20 Cost: 1086.231445\n",
      "Epoch   20/20 Cost: 1086.213623\n"
     ]
    },
    {
     "name": "stderr",
     "output_type": "stream",
     "text": [
      "<ipython-input-8-378deb2b54e7>:16: UserWarning: Using a target size (torch.Size([25])) that is different to the input size (torch.Size([25, 1])). This will likely lead to incorrect results due to broadcasting. Please ensure they have the same size.\n",
      "  cost = F.mse_loss(prediction, y_train)\n"
     ]
    }
   ],
   "source": [
    "# 데이터\n",
    "x_train = torch.FloatTensor(x_data)\n",
    "y_train = torch.FloatTensor(y_data)\n",
    "# 모델 초기화\n",
    "model = MultivariateLinearRegressionModel()\n",
    "# optimizer 설정\n",
    "optimizer = optim.SGD(model.parameters(), lr=1e-5)\n",
    "\n",
    "nb_epochs = 20\n",
    "for epoch in range(nb_epochs+1):\n",
    "    \n",
    "    # H(x) 계산\n",
    "    prediction = model(x_train)\n",
    "    \n",
    "    # cost 계산\n",
    "    cost = F.mse_loss(prediction, y_train)\n",
    "    \n",
    "    # cost로 H(x) 개선\n",
    "    optimizer.zero_grad()\n",
    "    cost.backward()\n",
    "    optimizer.step()\n",
    "    \n",
    "    # 20번마다 로그 출력\n",
    "    print('Epoch {:4d}/{} Cost: {:.6f}'.format(\n",
    "        epoch, nb_epochs, cost.item()\n",
    "    ))"
   ]
  },
  {
   "cell_type": "markdown",
   "metadata": {},
   "source": [
    "## PyTorch Dataset\n",
    "- torch.utils.data.Dataset 상속\n",
    "---\n",
    "### Custom DataLoader\n",
    "우리가 직접 만드는 custom dataloader은 다음과 같은 세 파트로 이루어져 있다.\n",
    "\n",
    "1. __ init __ (self) : download, read data 등을 하는 파트\n",
    "2. __ getitem __ (self, index) : 인덱스에 해당하는 아이템을 넘겨주는 파트, 어떠한 인덱스 idx를 받았을 때, 그에 상응하는 입출력 데이터 반환\n",
    "3. __ len __ (self) : data size를 넘겨주는 파트, 이 dataset의 총 데이터 개수\n"
   ]
  },
  {
   "cell_type": "code",
   "execution_count": 9,
   "metadata": {},
   "outputs": [],
   "source": [
    "from torch.utils.data import Dataset\n",
    "\n",
    "class CustomDataset(Dataset):\n",
    "    def __init__(self):\n",
    "        self.x_data=[[73, 80, 75],\n",
    "                  [93, 88, 93],\n",
    "                  [89, 91, 90],\n",
    "                  [96, 98, 100],\n",
    "                  [73, 66, 70]]\n",
    "        self.y_data=[[152],[185],[180],[196],[142]]\n",
    "    \n",
    "    def __len__(self):\n",
    "        return len(self.x_data)\n",
    "    \n",
    "    def __getitem__(self,idx):\n",
    "        x=torch.FloatTensor(self.x_data[idx])\n",
    "        y=torch.FloatTensor(self.y_data[idx])\n",
    "        \n",
    "        return x,y\n",
    "    \n",
    "dataset=CustomDataset()"
   ]
  },
  {
   "cell_type": "markdown",
   "metadata": {},
   "source": [
    "## PyTorch DataLoader\n",
    "- torch.utils.data.DataLoader 사용\n",
    "- Dataset을 인자로 받아 data를 뽑아냄\n",
    "- batch_size=2 : 각 minibatch의 크기, 통상적으로 2의 제곱수로 설정\n",
    "- shuffle=True : Epoch마다 데이터셋을 섞어서, 데이터가 학습되는 순서를 바꾼다. \n",
    "---\n",
    "### Minibtach Gradient Descent\n",
    "- 엄청난 양의 데이터를 한 번에 학습시킬 수 없다.\n",
    "- 일부분의 데이터로만 학습하자\n",
    "- 전체 데이터를 균일하게 나눠서 학습하는 것\n",
    "- 업데이트를 좀 더 빠르게 할 수 있다.\n",
    "- 전체 데이터를 쓰지 않아서 잘못된 방향으로 업데이트를 할 수도 있다.\n",
    "\n",
    "#### epcoh\n",
    "- 한번 '모든' 트레이닝 데이터에 대해서 forward와 backward pass를 진행한 상태\n",
    "\n",
    "#### batch_size\n",
    "- forward와 backward를 한번에 얼만큼의 데이터씩 진행할 것인지 그 사이즈\n",
    "\n",
    "#### iterations\n",
    "- batch_size 단위로 몇 번 forward, backward를 진행했는지 그 수\n",
    "\n",
    "#### data size=batch_size*iterations"
   ]
  },
  {
   "cell_type": "code",
   "execution_count": 10,
   "metadata": {},
   "outputs": [],
   "source": [
    "from torch.utils.data import DataLoader\n",
    "\n",
    "dataloader=DataLoader(\n",
    "    dataset,\n",
    "    batch_size=2,\n",
    "    shuffle=True,\n",
    ")"
   ]
  },
  {
   "cell_type": "markdown",
   "metadata": {},
   "source": [
    "## Full code with Dataset and DataLoader\n",
    "- enumerate(dataloader) : minibatch 인덱스와 데이터를 받음\n",
    "- len(dataloader) : 한 epoch 당 minibatch 개수"
   ]
  },
  {
   "cell_type": "code",
   "execution_count": 11,
   "metadata": {},
   "outputs": [
    {
     "name": "stdout",
     "output_type": "stream",
     "text": [
      "Epoch    0/20 Batch 1/3 Cost: 3.819134\n",
      "Epoch    0/20 Batch 2/3 Cost: 2.243192\n",
      "Epoch    0/20 Batch 3/3 Cost: 0.158230\n",
      "Epoch    1/20 Batch 1/3 Cost: 0.825465\n",
      "Epoch    1/20 Batch 2/3 Cost: 0.010978\n",
      "Epoch    1/20 Batch 3/3 Cost: 0.108147\n",
      "Epoch    2/20 Batch 1/3 Cost: 0.051899\n",
      "Epoch    2/20 Batch 2/3 Cost: 0.544668\n",
      "Epoch    2/20 Batch 3/3 Cost: 0.005719\n",
      "Epoch    3/20 Batch 1/3 Cost: 0.110820\n",
      "Epoch    3/20 Batch 2/3 Cost: 0.048311\n",
      "Epoch    3/20 Batch 3/3 Cost: 0.997255\n",
      "Epoch    4/20 Batch 1/3 Cost: 0.505473\n",
      "Epoch    4/20 Batch 2/3 Cost: 0.037492\n",
      "Epoch    4/20 Batch 3/3 Cost: 0.256017\n",
      "Epoch    5/20 Batch 1/3 Cost: 0.512007\n",
      "Epoch    5/20 Batch 2/3 Cost: 0.211494\n",
      "Epoch    5/20 Batch 3/3 Cost: 0.086010\n",
      "Epoch    6/20 Batch 1/3 Cost: 0.055021\n",
      "Epoch    6/20 Batch 2/3 Cost: 0.574683\n",
      "Epoch    6/20 Batch 3/3 Cost: 0.002051\n",
      "Epoch    7/20 Batch 1/3 Cost: 0.140478\n",
      "Epoch    7/20 Batch 2/3 Cost: 0.590867\n",
      "Epoch    7/20 Batch 3/3 Cost: 0.008368\n",
      "Epoch    8/20 Batch 1/3 Cost: 0.433417\n",
      "Epoch    8/20 Batch 2/3 Cost: 0.185697\n",
      "Epoch    8/20 Batch 3/3 Cost: 0.001863\n",
      "Epoch    9/20 Batch 1/3 Cost: 0.440362\n",
      "Epoch    9/20 Batch 2/3 Cost: 0.244100\n",
      "Epoch    9/20 Batch 3/3 Cost: 0.102835\n",
      "Epoch   10/20 Batch 1/3 Cost: 0.088248\n",
      "Epoch   10/20 Batch 2/3 Cost: 0.012566\n",
      "Epoch   10/20 Batch 3/3 Cost: 1.132021\n",
      "Epoch   11/20 Batch 1/3 Cost: 0.495761\n",
      "Epoch   11/20 Batch 2/3 Cost: 0.028043\n",
      "Epoch   11/20 Batch 3/3 Cost: 0.236441\n",
      "Epoch   12/20 Batch 1/3 Cost: 0.518957\n",
      "Epoch   12/20 Batch 2/3 Cost: 0.313707\n",
      "Epoch   12/20 Batch 3/3 Cost: 0.002192\n",
      "Epoch   13/20 Batch 1/3 Cost: 0.494343\n",
      "Epoch   13/20 Batch 2/3 Cost: 0.255397\n",
      "Epoch   13/20 Batch 3/3 Cost: 0.077513\n",
      "Epoch   14/20 Batch 1/3 Cost: 0.103758\n",
      "Epoch   14/20 Batch 2/3 Cost: 0.546670\n",
      "Epoch   14/20 Batch 3/3 Cost: 0.224791\n",
      "Epoch   15/20 Batch 1/3 Cost: 0.559088\n",
      "Epoch   15/20 Batch 2/3 Cost: 0.061104\n",
      "Epoch   15/20 Batch 3/3 Cost: 0.000120\n",
      "Epoch   16/20 Batch 1/3 Cost: 0.016466\n",
      "Epoch   16/20 Batch 2/3 Cost: 0.519478\n",
      "Epoch   16/20 Batch 3/3 Cost: 0.153447\n",
      "Epoch   17/20 Batch 1/3 Cost: 0.524214\n",
      "Epoch   17/20 Batch 2/3 Cost: 0.231710\n",
      "Epoch   17/20 Batch 3/3 Cost: 0.084132\n",
      "Epoch   18/20 Batch 1/3 Cost: 0.521545\n",
      "Epoch   18/20 Batch 2/3 Cost: 0.077005\n",
      "Epoch   18/20 Batch 3/3 Cost: 0.000888\n",
      "Epoch   19/20 Batch 1/3 Cost: 0.448559\n",
      "Epoch   19/20 Batch 2/3 Cost: 0.239254\n",
      "Epoch   19/20 Batch 3/3 Cost: 0.100412\n",
      "Epoch   20/20 Batch 1/3 Cost: 0.592427\n",
      "Epoch   20/20 Batch 2/3 Cost: 0.110496\n",
      "Epoch   20/20 Batch 3/3 Cost: 0.193186\n"
     ]
    }
   ],
   "source": [
    "nb_epochs=20\n",
    "for epoch in range(nb_epochs+1):\n",
    "    for batch_idx, samples in enumerate(dataloader):\n",
    "        x_train, y_train=samples\n",
    "        \n",
    "        #H(x) 계산\n",
    "        prediction=model(x_train)\n",
    "        \n",
    "        # cost 계산\n",
    "        cost=F.mse_loss(prediction, y_train)\n",
    "        \n",
    "        # cost로 H(x) 계산\n",
    "        optimizer.zero_grad()\n",
    "        cost.backward()\n",
    "        optimizer.step()\n",
    "        \n",
    "        print('Epoch {:4d}/{} Batch {}/{} Cost: {:6f}'.format(\n",
    "        epoch, nb_epochs, batch_idx+1, len(dataloader),\n",
    "        cost.item()\n",
    "    ))\n",
    "        "
   ]
  },
  {
   "cell_type": "markdown",
   "metadata": {},
   "source": [
    "### PyTorch의 Dataset과 DataLoader 이용\n",
    "- PyTorch의 Dataset과 DataLoader를 이용하면 학습을 위한 방대한 데이터를 미니배치 단위로 처리할 수 있고, 데이터를 무작위로 섞음으로써 학습의 효율성을 향상시킬 수 있다.\n",
    "- 데이터를 여러 개의 GPU를 이용해 병렬처리로 학습할 수도 있다."
   ]
  },
  {
   "cell_type": "code",
   "execution_count": 12,
   "metadata": {},
   "outputs": [],
   "source": [
    "from sklearn.datasets import load_iris\n",
    "from torch.utils.data import TensorDataset, DataLoader\n",
    "\n",
    "iris=load_iris()\n"
   ]
  },
  {
   "cell_type": "code",
   "execution_count": 13,
   "metadata": {},
   "outputs": [
    {
     "data": {
      "image/png": "[encoded data removed]",
      "text/plain": [
       "<Figure size 432x288 with 1 Axes>"
      ]
     },
     "metadata": {
      "needs_background": "light"
     },
     "output_type": "display_data"
    }
   ],
   "source": [
    "X=iris.data[:100]\n",
    "y=iris.target[:100]\n",
    "\n",
    "X = torch.tensor(X, dtype=torch.float32)\n",
    "y = torch.tensor(y, dtype=torch.float32)\n",
    "\n",
    "net=nn.Linear(4,1)\n",
    "loss_fn=nn.BCEWithLogitsLoss()\n",
    "optimizer=optim.SGD(net.parameters(), lr=0.25)\n",
    "\n",
    "losses=[]\n",
    "\n",
    "for epoch in range(100):\n",
    "    batch_loss=0.0\n",
    "    \n",
    "    optimizer.zero_grad()\n",
    "    y_pred=net(X)\n",
    "    loss=loss_fn(y_pred.view_as(y),y)\n",
    "    loss.backward()\n",
    "    optimizer.step()\n",
    "    batch_loss+=loss.item()\n",
    "    \n",
    "    losses.append(batch_loss)\n",
    "    \n",
    "from matplotlib import pyplot as plt\n",
    "plt.plot(losses)\n",
    "plt.show()"
   ]
  },
  {
   "cell_type": "markdown",
   "metadata": {},
   "source": [
    "위의 코드에 대해서 Dataset과 DataLoader를 적용한 코드로, 앞 코드의 하이퍼 파라미터 등에 대한 모든 조건은 통일하고 단지 미니배치를 10으로 하여 학습시키다."
   ]
  },
  {
   "cell_type": "code",
   "execution_count": 14,
   "metadata": {},
   "outputs": [
    {
     "data": {
      "image/png": "[encoded data removed]",
      "text/plain": [
       "<Figure size 432x288 with 1 Axes>"
      ]
     },
     "metadata": {
      "needs_background": "light"
     },
     "output_type": "display_data"
    }
   ],
   "source": [
    "X = iris.data[:100]\n",
    "y = iris.target[:100]\n",
    "X = torch.tensor(X, dtype=torch.float32)\n",
    "y = torch.tensor(y, dtype=torch.float32)\n",
    "ds = TensorDataset(X, y)\n",
    "loader = DataLoader(ds, batch_size=10, shuffle=True)\n",
    "net = nn.Linear(4, 1)\n",
    "loss_fn = nn.BCEWithLogitsLoss()\n",
    "optimizer = optim.SGD(net.parameters(), lr=0.25)\n",
    "losses = []\n",
    "for epoc in range(100):\n",
    "    batch_loss = 0.0\n",
    "    for xx, yy in loader:\n",
    "        optimizer.zero_grad()\n",
    "        y_pred = net(xx)\n",
    "        loss = loss_fn(y_pred.view_as(yy), yy)\n",
    "        loss.backward()\n",
    "        optimizer.step()\n",
    "        batch_loss += loss.item()\n",
    "    losses.append(batch_loss)\n",
    "from matplotlib import pyplot as plt\n",
    "plt.plot(losses)\n",
    "plt.show()"
   ]
  }
 ],
 "metadata": {
  "kernelspec": {
   "display_name": "Python 3",
   "language": "python",
   "name": "python3"
  },
  "language_info": {
   "codemirror_mode": {
    "name": "ipython",
    "version": 3
   },
   "file_extension": ".py",
   "mimetype": "text/x-python",
   "name": "python",
   "nbconvert_exporter": "python",
   "pygments_lexer": "ipython3",
   "version": "3.8.5"
  }
 },
 "nbformat": 4,
 "nbformat_minor": 4
}
