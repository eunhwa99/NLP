{
  "nbformat": 4,
  "nbformat_minor": 0,
  "metadata": {
    "colab": {
      "name": "linear_regression.ipynb",
      "provenance": [],
      "collapsed_sections": [],
      "authorship_tag": "ABX9TyNAg5a1SkxEMoid0ajup1Lv",
      "include_colab_link": true
    },
    "kernelspec": {
      "name": "python3",
      "display_name": "Python 3"
    }
  },
  "cells": [
    {
      "cell_type": "markdown",
      "metadata": {
        "id": "view-in-github",
        "colab_type": "text"
      },
      "source": [
        "<a href=\"https://colab.research.google.com/github/eunhwa99/NLP/blob/main/linear_regression.ipynb\" target=\"_parent\"><img src=\"https://colab.research.google.com/assets/colab-badge.svg\" alt=\"Open In Colab\"/></a>"
      ]
    },
    {
      "cell_type": "markdown",
      "metadata": {
        "id": "TZetu5QXcfXt"
      },
      "source": [
        "Theoretical Overview\r\n",
        "$$ H(x) = Wx + b $$\r\n",
        "$$ cost(W, b) = \\frac{1}{m} \\sum^m_{i=1} \\left( H(x^{(i)}) - y^{(i)} \\right)^2 $$\r\n",
        "$H(x)$: 주어진 $x$ 값에 대해 예측을 어떻게 할 것인가\r\n",
        "$cost(W, b)$: $H(x)$ 가 $y$ 를 얼마나 잘 예측했는가"
      ]
    },
    {
      "cell_type": "code",
      "metadata": {
        "id": "KQW9Dt6xcl4B"
      },
      "source": [
        "import torch\r\n",
        "import torch.nn as nn\r\n",
        "import torch.nn.functional as F\r\n",
        "import torch.optim as optim"
      ],
      "execution_count": 1,
      "outputs": []
    },
    {
      "cell_type": "code",
      "metadata": {
        "colab": {
          "base_uri": "https://localhost:8080/"
        },
        "id": "sqrNY9VJcqkn",
        "outputId": "4199c0db-de91-43da-ecdb-d8327ff5a4ca"
      },
      "source": [
        "# For reproducibility\r\n",
        "torch.manual_seed(1)"
      ],
      "execution_count": 2,
      "outputs": [
        {
          "output_type": "execute_result",
          "data": {
            "text/plain": [
              "<torch._C.Generator at 0x7f559d9e2b58>"
            ]
          },
          "metadata": {
            "tags": []
          },
          "execution_count": 2
        }
      ]
    },
    {
      "cell_type": "markdown",
      "metadata": {
        "id": "iCMkNvbOct8Z"
      },
      "source": [
        "**Data**\r\n",
        "\r\n",
        "We will use fake data for this example.\r\n",
        "- 데이터는 torch.tensor!\r\n",
        "- 입력 따로, 출력 따로"
      ]
    },
    {
      "cell_type": "code",
      "metadata": {
        "id": "AADcxRoVcspu"
      },
      "source": [
        "x_train = torch.FloatTensor([[1], [2], [3]])\r\n",
        "y_train = torch.FloatTensor([[1], [2], [3]])"
      ],
      "execution_count": 3,
      "outputs": []
    },
    {
      "cell_type": "code",
      "metadata": {
        "colab": {
          "base_uri": "https://localhost:8080/"
        },
        "id": "_n5Guwjpc1G0",
        "outputId": "fbd86c73-6e12-456c-e8e5-477505e69f65"
      },
      "source": [
        "print(x_train)\r\n",
        "print(x_train.shape)"
      ],
      "execution_count": 4,
      "outputs": [
        {
          "output_type": "stream",
          "text": [
            "tensor([[1.],\n",
            "        [2.],\n",
            "        [3.]])\n",
            "torch.Size([3, 1])\n"
          ],
          "name": "stdout"
        }
      ]
    },
    {
      "cell_type": "code",
      "metadata": {
        "colab": {
          "base_uri": "https://localhost:8080/"
        },
        "id": "MHjtx667c4K9",
        "outputId": "bc30566f-dd2a-4537-d878-ddfd50b7e554"
      },
      "source": [
        "print(y_train)\r\n",
        "print(y_train.shape)"
      ],
      "execution_count": 5,
      "outputs": [
        {
          "output_type": "stream",
          "text": [
            "tensor([[1.],\n",
            "        [2.],\n",
            "        [3.]])\n",
            "torch.Size([3, 1])\n"
          ],
          "name": "stdout"
        }
      ]
    },
    {
      "cell_type": "markdown",
      "metadata": {
        "id": "qNRkyOTic7QR"
      },
      "source": [
        "**Weight Initialization**\r\n",
        "\r\n",
        "- Weight와 Bias 0으로 초기화\r\n",
        "- requires_grad=True: 학습할 것이라고 명시(W,b를 학습시킬 것이다.)"
      ]
    },
    {
      "cell_type": "code",
      "metadata": {
        "colab": {
          "base_uri": "https://localhost:8080/"
        },
        "id": "b7voT6vOc_sp",
        "outputId": "89495a05-91f1-49af-eede-4b9e8786855f"
      },
      "source": [
        "W = torch.zeros(1, requires_grad=True)\r\n",
        "print(W)\r\n",
        "b = torch.zeros(1, requires_grad=True)\r\n",
        "print(b)"
      ],
      "execution_count": 6,
      "outputs": [
        {
          "output_type": "stream",
          "text": [
            "tensor([0.], requires_grad=True)\n",
            "tensor([0.], requires_grad=True)\n"
          ],
          "name": "stdout"
        }
      ]
    },
    {
      "cell_type": "markdown",
      "metadata": {
        "id": "U1ksngVCddvQ"
      },
      "source": [
        "**Hypothesis**\r\n",
        "$$ H(x) = Wx + b $$"
      ]
    },
    {
      "cell_type": "code",
      "metadata": {
        "colab": {
          "base_uri": "https://localhost:8080/"
        },
        "id": "oJyNt-U6djvO",
        "outputId": "3d0c6f3a-cf3b-499e-be3c-a7f2c0485c98"
      },
      "source": [
        "hypothesis = x_train * W + b\r\n",
        "print(hypothesis)"
      ],
      "execution_count": 7,
      "outputs": [
        {
          "output_type": "stream",
          "text": [
            "tensor([[0.],\n",
            "        [0.],\n",
            "        [0.]], grad_fn=<AddBackward0>)\n"
          ],
          "name": "stdout"
        }
      ]
    },
    {
      "cell_type": "markdown",
      "metadata": {
        "id": "6wjib6z9dlyD"
      },
      "source": [
        "**Cost**\r\n",
        "$$ cost(W, b) = \\frac{1}{m} \\sum^m_{i=1} \\left( H(x^{(i)}) - y^{(i)} \\right)^2 $$"
      ]
    },
    {
      "cell_type": "code",
      "metadata": {
        "colab": {
          "base_uri": "https://localhost:8080/"
        },
        "id": "8BCCJPJedoxi",
        "outputId": "b28d103a-b7f3-4107-981f-5aa72697c2bb"
      },
      "source": [
        "print(hypothesis - y_train)\r\n",
        "print((hypothesis - y_train) ** 2)"
      ],
      "execution_count": 8,
      "outputs": [
        {
          "output_type": "stream",
          "text": [
            "tensor([[-1.],\n",
            "        [-2.],\n",
            "        [-3.]], grad_fn=<SubBackward0>)\n",
            "tensor([[1.],\n",
            "        [4.],\n",
            "        [9.]], grad_fn=<PowBackward0>)\n"
          ],
          "name": "stdout"
        }
      ]
    },
    {
      "cell_type": "code",
      "metadata": {
        "colab": {
          "base_uri": "https://localhost:8080/"
        },
        "id": "eA8u4jeDduuh",
        "outputId": "ded4f49a-f96c-4cb4-a6e4-95209de9201c"
      },
      "source": [
        "cost = torch.mean((hypothesis - y_train) ** 2) #torch.mean: 평균으로 계산\r\n",
        "print(cost)"
      ],
      "execution_count": 9,
      "outputs": [
        {
          "output_type": "stream",
          "text": [
            "tensor(4.6667, grad_fn=<MeanBackward0>)\n"
          ],
          "name": "stdout"
        }
      ]
    },
    {
      "cell_type": "markdown",
      "metadata": {
        "id": "wexK7M83dwGn"
      },
      "source": [
        "**Gradient Descent**\r\n",
        "\r\n",
        "1. torch.optim 라이브러리 사용\r\n",
        "- [W,b]는 학습할 tensor들\r\n",
        "- lr=0.01은 learning rate\r\n",
        "\r\n",
        "2. 항상 붙어다니는 3줄\r\n",
        "- optimizer.zero_grad()로 gradient를 0으로 초기화\r\n",
        "- cost.backward()로 gradient 계산\r\n",
        "- optimizer.step()으로 개선"
      ]
    },
    {
      "cell_type": "code",
      "metadata": {
        "id": "4Ia2hTVodzQ_"
      },
      "source": [
        "optimizer = optim.SGD([W, b], lr=0.01)"
      ],
      "execution_count": 10,
      "outputs": []
    },
    {
      "cell_type": "code",
      "metadata": {
        "id": "32VugorAd2lS"
      },
      "source": [
        "optimizer.zero_grad()\r\n",
        "cost.backward()\r\n",
        "optimizer.step()"
      ],
      "execution_count": 11,
      "outputs": []
    },
    {
      "cell_type": "code",
      "metadata": {
        "colab": {
          "base_uri": "https://localhost:8080/"
        },
        "id": "-W3Ik32Bd6v_",
        "outputId": "14934dfe-dd13-42b8-ff40-ea6cf2518870"
      },
      "source": [
        "print(W)\r\n",
        "print(b)"
      ],
      "execution_count": 12,
      "outputs": [
        {
          "output_type": "stream",
          "text": [
            "tensor([0.0933], requires_grad=True)\n",
            "tensor([0.0400], requires_grad=True)\n"
          ],
          "name": "stdout"
        }
      ]
    },
    {
      "cell_type": "markdown",
      "metadata": {
        "id": "BtC-GOHieknj"
      },
      "source": [
        "**Training with Full Code**\r\n",
        "\r\n",
        "In reality, we will be training on the dataset for multiple epochs. This can be done simply with loops."
      ]
    },
    {
      "cell_type": "code",
      "metadata": {
        "colab": {
          "base_uri": "https://localhost:8080/"
        },
        "id": "VonclaIyej1t",
        "outputId": "6786ff6a-c989-439e-8019-a78e7b731e5c"
      },
      "source": [
        "# 데이터\r\n",
        "x_train = torch.FloatTensor([[1], [2], [3]])\r\n",
        "y_train = torch.FloatTensor([[1], [2], [3]])\r\n",
        "# 모델 초기화\r\n",
        "W = torch.zeros(1, requires_grad=True)\r\n",
        "b = torch.zeros(1, requires_grad=True)\r\n",
        "# optimizer 설정\r\n",
        "optimizer = optim.SGD([W, b], lr=0.01)\r\n",
        "\r\n",
        "nb_epochs = 1000\r\n",
        "for epoch in range(nb_epochs + 1):\r\n",
        "    \r\n",
        "    # H(x) 계산\r\n",
        "    hypothesis = x_train * W + b\r\n",
        "    \r\n",
        "    # cost 계산\r\n",
        "    cost = torch.mean((hypothesis - y_train) ** 2)\r\n",
        "    \r\n",
        "    # cost로 H(x) 개선\r\n",
        "    optimizer.zero_grad()\r\n",
        "    cost.backward()\r\n",
        "    optimizer.step()\r\n",
        "    \r\n",
        "    #gradient 구현\r\n",
        "    #gradient=torch.sum((W8x_train-y_train)*x_train)\r\n",
        "    #W-=lr*gradient\r\n",
        "    #b-=lr*gradient\r\n",
        "\r\n",
        "    # 100번마다 로그 출력\r\n",
        "    if epoch % 100 == 0:\r\n",
        "        print('Epoch {:4d}/{} W: {:.3f}, b: {:.3f} Cost: {:.6f}'.format(\r\n",
        "            epoch, nb_epochs, W.item(), b.item(), cost.item()\r\n",
        "        ))"
      ],
      "execution_count": 13,
      "outputs": [
        {
          "output_type": "stream",
          "text": [
            "Epoch    0/1000 W: 0.093, b: 0.040 Cost: 4.666667\n",
            "Epoch  100/1000 W: 0.873, b: 0.289 Cost: 0.012043\n",
            "Epoch  200/1000 W: 0.900, b: 0.227 Cost: 0.007442\n",
            "Epoch  300/1000 W: 0.921, b: 0.179 Cost: 0.004598\n",
            "Epoch  400/1000 W: 0.938, b: 0.140 Cost: 0.002842\n",
            "Epoch  500/1000 W: 0.951, b: 0.110 Cost: 0.001756\n",
            "Epoch  600/1000 W: 0.962, b: 0.087 Cost: 0.001085\n",
            "Epoch  700/1000 W: 0.970, b: 0.068 Cost: 0.000670\n",
            "Epoch  800/1000 W: 0.976, b: 0.054 Cost: 0.000414\n",
            "Epoch  900/1000 W: 0.981, b: 0.042 Cost: 0.000256\n",
            "Epoch 1000/1000 W: 0.985, b: 0.033 Cost: 0.000158\n"
          ],
          "name": "stdout"
        }
      ]
    },
    {
      "cell_type": "markdown",
      "metadata": {
        "id": "XuzWrfT0h7Bs"
      },
      "source": [
        "**Multivariate Linear Regression**\r\n",
        "- 지금까지는 한 종류(행)의 입력이 주어지면 출력을 예상하는 Simple Linear Regrssion\r\n",
        "- 여러 종류(행)의 입력이 주어지면 어떻게 연산해야 할까"
      ]
    },
    {
      "cell_type": "markdown",
      "metadata": {
        "id": "HIIgykQZkv9y"
      },
      "source": [
        "1. 데이터 정의\r\n",
        "2. 모델 정의\r\n",
        "3. optimizer 정의\r\n",
        "4. Hypothesis 계산\r\n",
        "5. Cost 계산(MSE)\r\n",
        "6. Gradient descent"
      ]
    },
    {
      "cell_type": "code",
      "metadata": {
        "id": "ZT8pZQPbe3oL"
      },
      "source": [
        "x_train = torch.FloatTensor([[73, 80, 75],\r\n",
        "                             [93, 88, 93],\r\n",
        "                             [89, 91, 90],\r\n",
        "                             [96, 98, 100],\r\n",
        "                             [73, 66, 70]])\r\n",
        "y_train = torch.FloatTensor([[152], [185], [180], [196], [142]])"
      ],
      "execution_count": 14,
      "outputs": []
    },
    {
      "cell_type": "code",
      "metadata": {
        "colab": {
          "base_uri": "https://localhost:8080/"
        },
        "id": "-muSbZaPjqIo",
        "outputId": "7648650e-4657-4503-b2d4-0ac593adb9aa"
      },
      "source": [
        "print(x_train.shape)\r\n",
        "print(y_train.shape)"
      ],
      "execution_count": 15,
      "outputs": [
        {
          "output_type": "stream",
          "text": [
            "torch.Size([5, 3])\n",
            "torch.Size([5, 1])\n"
          ],
          "name": "stdout"
        }
      ]
    },
    {
      "cell_type": "code",
      "metadata": {
        "colab": {
          "base_uri": "https://localhost:8080/"
        },
        "id": "wmEcYsggjsvt",
        "outputId": "7d999363-6574-489e-9913-de3d823d47c5"
      },
      "source": [
        "# 모델 초기화\r\n",
        "W = torch.zeros((3, 1), requires_grad=True)\r\n",
        "b = torch.zeros(1, requires_grad=True)\r\n",
        "# optimizer 설정\r\n",
        "optimizer = optim.SGD([W, b], lr=1e-5)\r\n",
        "\r\n",
        "nb_epochs = 20\r\n",
        "for epoch in range(nb_epochs + 1):\r\n",
        "    \r\n",
        "    # H(x) 계산\r\n",
        "    hypothesis = x_train.matmul(W) + b # 행렬로 계산==> 더 간결, x의 길이가 바뀌어도 코드 바꿀 필요X, 속도 향상\r\n",
        "\r\n",
        "    # cost 계산\r\n",
        "    cost = torch.mean((hypothesis - y_train) ** 2)\r\n",
        "\r\n",
        "    # cost로 H(x) 개선\r\n",
        "    optimizer.zero_grad()\r\n",
        "    cost.backward()\r\n",
        "    optimizer.step()\r\n",
        "\r\n",
        "    # 100번마다 로그 출력\r\n",
        "    print('Epoch {:4d}/{} hypothesis: {} Cost: {:.6f}'.format(\r\n",
        "        epoch, nb_epochs, hypothesis.squeeze().detach(), cost.item()\r\n",
        "    ))"
      ],
      "execution_count": 16,
      "outputs": [
        {
          "output_type": "stream",
          "text": [
            "Epoch    0/20 hypothesis: tensor([0., 0., 0., 0., 0.]) Cost: 29661.800781\n",
            "Epoch    1/20 hypothesis: tensor([67.2578, 80.8397, 79.6523, 86.7394, 61.6605]) Cost: 9298.520508\n",
            "Epoch    2/20 hypothesis: tensor([104.9128, 126.0990, 124.2466, 135.3015,  96.1821]) Cost: 2915.712402\n",
            "Epoch    3/20 hypothesis: tensor([125.9942, 151.4381, 149.2133, 162.4896, 115.5097]) Cost: 915.040527\n",
            "Epoch    4/20 hypothesis: tensor([137.7967, 165.6247, 163.1911, 177.7112, 126.3307]) Cost: 287.936096\n",
            "Epoch    5/20 hypothesis: tensor([144.4044, 173.5674, 171.0168, 186.2332, 132.3891]) Cost: 91.371063\n",
            "Epoch    6/20 hypothesis: tensor([148.1035, 178.0143, 175.3980, 191.0042, 135.7812]) Cost: 29.758249\n",
            "Epoch    7/20 hypothesis: tensor([150.1744, 180.5042, 177.8509, 193.6753, 137.6805]) Cost: 10.445267\n",
            "Epoch    8/20 hypothesis: tensor([151.3336, 181.8983, 179.2240, 195.1707, 138.7440]) Cost: 4.391237\n",
            "Epoch    9/20 hypothesis: tensor([151.9824, 182.6789, 179.9928, 196.0079, 139.3396]) Cost: 2.493121\n",
            "Epoch   10/20 hypothesis: tensor([152.3454, 183.1161, 180.4231, 196.4765, 139.6732]) Cost: 1.897688\n",
            "Epoch   11/20 hypothesis: tensor([152.5485, 183.3609, 180.6640, 196.7389, 139.8602]) Cost: 1.710552\n",
            "Epoch   12/20 hypothesis: tensor([152.6620, 183.4982, 180.7988, 196.8857, 139.9651]) Cost: 1.651416\n",
            "Epoch   13/20 hypothesis: tensor([152.7253, 183.5752, 180.8742, 196.9678, 140.0240]) Cost: 1.632369\n",
            "Epoch   14/20 hypothesis: tensor([152.7606, 183.6184, 180.9164, 197.0138, 140.0571]) Cost: 1.625924\n",
            "Epoch   15/20 hypothesis: tensor([152.7802, 183.6427, 180.9399, 197.0395, 140.0759]) Cost: 1.623420\n",
            "Epoch   16/20 hypothesis: tensor([152.7909, 183.6565, 180.9530, 197.0538, 140.0865]) Cost: 1.622152\n",
            "Epoch   17/20 hypothesis: tensor([152.7968, 183.6643, 180.9603, 197.0618, 140.0927]) Cost: 1.621262\n",
            "Epoch   18/20 hypothesis: tensor([152.7999, 183.6688, 180.9644, 197.0661, 140.0963]) Cost: 1.620501\n",
            "Epoch   19/20 hypothesis: tensor([152.8014, 183.6715, 180.9665, 197.0686, 140.0985]) Cost: 1.619757\n",
            "Epoch   20/20 hypothesis: tensor([152.8020, 183.6731, 180.9677, 197.0699, 140.0999]) Cost: 1.619046\n"
          ],
          "name": "stdout"
        }
      ]
    },
    {
      "cell_type": "markdown",
      "metadata": {
        "id": "rVT_fGEck1hk"
      },
      "source": [
        "**Matrix Data Representation**\r\n",
        "$$\r\n",
        "\\begin{pmatrix}\r\n",
        "x_1 & x_2 & x_3\r\n",
        "\\end{pmatrix}\r\n",
        "\\cdot\r\n",
        "\\begin{pmatrix}\r\n",
        "w_1 \\\\\r\n",
        "w_2 \\\\\r\n",
        "w_3 \\\\\r\n",
        "\\end{pmatrix}\r\n",
        "=\r\n",
        "\\begin{pmatrix}\r\n",
        "x_1w_1 + x_2w_2 + x_3w_3\r\n",
        "\\end{pmatrix}\r\n",
        "$$\r\n",
        "$$ H(X) = XW $$\r\n",
        "\r\n",
        "\r\n",
        "---\r\n",
        "\r\n"
      ]
    },
    {
      "cell_type": "markdown",
      "metadata": {
        "id": "y_sILUaNinWr"
      },
      "source": [
        "기본적으로 PyTorch의 모든 모델은 제공되는 nn.Module을 inherit 해서 만들게 됩니다. \r\n",
        "\r\n",
        "- nn.Module을 상속해서 모델 생성\r\n",
        "- nn.Linear(3,1)\r\n",
        "\r\n",
        "1.   입력 차원:3\r\n",
        "2.   출력 차원:1\r\n",
        "- Hypothesis(predict) 계산은 forward() 에서!\r\n",
        "- Gradient 계산은 PyTorch가 알아서 해준다\r\n"
      ]
    },
    {
      "cell_type": "code",
      "metadata": {
        "id": "SZFYiMIPiqrx"
      },
      "source": [
        "class MultivariateLinearRegressionModel(nn.Module):\r\n",
        "  def __init__(self):\r\n",
        "    super().__init__()\r\n",
        "    self.linear=nn.Linear(3,1)\r\n",
        "  \r\n",
        "  def forward(self,x):\r\n",
        "    return self.linear(x)"
      ],
      "execution_count": 17,
      "outputs": []
    },
    {
      "cell_type": "markdown",
      "metadata": {
        "id": "oE9BQDiblymM"
      },
      "source": [
        "**F.mse_loss**\r\n",
        "- torch.nn.functional 에서 제공하는 loss function 사용\r\n",
        "- 쉽게 다른 loss와 교체 가능"
      ]
    },
    {
      "cell_type": "code",
      "metadata": {
        "colab": {
          "base_uri": "https://localhost:8080/"
        },
        "id": "MevFJPW9j83m",
        "outputId": "8963f160-7622-4467-a63e-02a45837f45c"
      },
      "source": [
        "# 데이터\r\n",
        "x_train = torch.FloatTensor([[73, 80, 75],\r\n",
        "                             [93, 88, 93],\r\n",
        "                             [89, 91, 90],\r\n",
        "                             [96, 98, 100],\r\n",
        "                             [73, 66, 70]])\r\n",
        "y_train = torch.FloatTensor([[152], [185], [180], [196], [142]])\r\n",
        "# 모델 초기화\r\n",
        "model = MultivariateLinearRegressionModel()\r\n",
        "# optimizer 설정\r\n",
        "optimizer = optim.SGD(model.parameters(), lr=1e-5)\r\n",
        "\r\n",
        "nb_epochs = 20\r\n",
        "for epoch in range(nb_epochs+1):\r\n",
        "    \r\n",
        "    # H(x) 계산\r\n",
        "    prediction = model(x_train)\r\n",
        "    \r\n",
        "    # cost 계산\r\n",
        "    cost = F.mse_loss(prediction, y_train)\r\n",
        "    \r\n",
        "    # cost로 H(x) 개선\r\n",
        "    optimizer.zero_grad()\r\n",
        "    cost.backward()\r\n",
        "    optimizer.step()\r\n",
        "    \r\n",
        "    # 20번마다 로그 출력\r\n",
        "    print('Epoch {:4d}/{} Cost: {:.6f}'.format(\r\n",
        "        epoch, nb_epochs, cost.item()\r\n",
        "    ))"
      ],
      "execution_count": 18,
      "outputs": [
        {
          "output_type": "stream",
          "text": [
            "Epoch    0/20 Cost: 31667.597656\n",
            "Epoch    1/20 Cost: 9926.265625\n",
            "Epoch    2/20 Cost: 3111.513672\n",
            "Epoch    3/20 Cost: 975.451477\n",
            "Epoch    4/20 Cost: 305.908630\n",
            "Epoch    5/20 Cost: 96.042679\n",
            "Epoch    6/20 Cost: 30.260782\n",
            "Epoch    7/20 Cost: 9.641681\n",
            "Epoch    8/20 Cost: 3.178685\n",
            "Epoch    9/20 Cost: 1.152871\n",
            "Epoch   10/20 Cost: 0.517862\n",
            "Epoch   11/20 Cost: 0.318802\n",
            "Epoch   12/20 Cost: 0.256388\n",
            "Epoch   13/20 Cost: 0.236810\n",
            "Epoch   14/20 Cost: 0.230660\n",
            "Epoch   15/20 Cost: 0.228719\n",
            "Epoch   16/20 Cost: 0.228095\n",
            "Epoch   17/20 Cost: 0.227880\n",
            "Epoch   18/20 Cost: 0.227799\n",
            "Epoch   19/20 Cost: 0.227759\n",
            "Epoch   20/20 Cost: 0.227732\n"
          ],
          "name": "stdout"
        }
      ]
    },
    {
      "cell_type": "markdown",
      "metadata": {
        "id": "ikC-mza1oG6c"
      },
      "source": [
        "**Minibatch Gradient Descent**\r\n",
        "- 엄청난 양의 데이터를 한 번에 학습시킬 수 없다.\r\n",
        "- 일부분의 데이터로만 학습하자\r\n",
        "- 전체 데이터를 균일하게 나눠서 학습하는 것\r\n",
        "- 업데이트를 좀 더 빠르게 할 수 있다.\r\n",
        "- 전체 데이터를 쓰지 않아서 잘못된 방향으로 업데이트를 할 수도 있다."
      ]
    },
    {
      "cell_type": "markdown",
      "metadata": {
        "id": "ufvAfghMorHz"
      },
      "source": [
        "**PyTorch Dataset**\r\n",
        "- torch.utils.data.Dataset 상속\r\n",
        "- __len__(): 이 데이터셋의 총 데이터 수\r\n",
        "- __getitem__(): 어떠한 인덱스 idx 를 받았을 때, 그에 상응하는 입출력 데이터 반환"
      ]
    },
    {
      "cell_type": "code",
      "metadata": {
        "id": "8J8_thv_od9S"
      },
      "source": [
        "from torch.utils.data import Dataset\r\n",
        "\r\n",
        "class CustomDataset(Dataset):\r\n",
        "  def __init__(self):\r\n",
        "    self.x_data=[[73, 80, 75],\r\n",
        "                  [93, 88, 93],\r\n",
        "                  [89, 91, 90],\r\n",
        "                  [96, 98, 100],\r\n",
        "                  [73, 66, 70]]\r\n",
        "    self.y_data=[[152],[185],[180],[196],[142]]\r\n",
        "  \r\n",
        "  def __len__(self):\r\n",
        "    return len(self.x_data)\r\n",
        "\r\n",
        "  def __getitem__(self, idx):\r\n",
        "    x=torch.FloatTensor(self.x_data[idx])\r\n",
        "    y=torch.FloatTensor(self.y_data[idx])\r\n",
        "\r\n",
        "    return x,y\r\n",
        "\r\n",
        "dataset=CustomDataset()"
      ],
      "execution_count": 19,
      "outputs": []
    },
    {
      "cell_type": "markdown",
      "metadata": {
        "id": "tBlq5-rcpIrR"
      },
      "source": [
        "**PyTorch DataLoader**\r\n",
        "- torch.utils.data.DataLoader 사용\r\n",
        "- batch_size=2: 각 minibatch의 크기, 통상적으로 2의 제곱수로 설정\r\n",
        "\r\n",
        "*   shuffle=True: Epoch마다 데이터셋을 섞어서, 데이터가 학습되는 순서를 바꾼다.\r\n",
        "\r\n",
        "\r\n"
      ]
    },
    {
      "cell_type": "code",
      "metadata": {
        "id": "LHE9ooktoZuJ"
      },
      "source": [
        "from torch.utils.data import DataLoader\r\n",
        "\r\n",
        "dataloader=DataLoader(\r\n",
        "    dataset,\r\n",
        "    batch_size=2,\r\n",
        "    shuffle=True,\r\n",
        ")"
      ],
      "execution_count": 20,
      "outputs": []
    },
    {
      "cell_type": "markdown",
      "metadata": {
        "id": "2cx8KLlFprYG"
      },
      "source": [
        "**Full code with Dataset and DataLoader**\r\n",
        "- enumerate(dataloader): minibatch 인덱스와 데이터를 받음\r\n",
        "- len(dataloader): 한 epoch당 minibatch 개수"
      ]
    },
    {
      "cell_type": "code",
      "metadata": {
        "colab": {
          "base_uri": "https://localhost:8080/"
        },
        "id": "U7wahPeEpvsu",
        "outputId": "6c042f24-dbad-4080-b0bd-c9579f591771"
      },
      "source": [
        "nb_epochs=20\r\n",
        "for epch in range(nb_epochs+1):\r\n",
        "  for batch_idx, samples in enumerate(dataloader):\r\n",
        "    x_train,y_train=samples\r\n",
        "    #H(x) 계산\r\n",
        "    prediction=model(x_train)\r\n",
        "\r\n",
        "    #cost 계산\r\n",
        "    cost=F.mse_loss(prediction, y_train)\r\n",
        "\r\n",
        "    #cost로 H(x) 계산\r\n",
        "    optimizer.zero_grad()\r\n",
        "    cost.backward()\r\n",
        "    optimizer.step()\r\n",
        "\r\n",
        "    print('Epoch {:4d}/{} Batch {}/{} Cost: {:6f}'.format(\r\n",
        "        epoch, nb_epochs, batch_idx+1, len(dataloader),\r\n",
        "        cost.item()\r\n",
        "    ))"
      ],
      "execution_count": 21,
      "outputs": [
        {
          "output_type": "stream",
          "text": [
            "Epoch   20/20 Batch 1/3 Cost: 0.010698\n",
            "Epoch   20/20 Batch 2/3 Cost: 0.511435\n",
            "Epoch   20/20 Batch 3/3 Cost: 0.142174\n",
            "Epoch   20/20 Batch 1/3 Cost: 0.562570\n",
            "Epoch   20/20 Batch 2/3 Cost: 0.045300\n",
            "Epoch   20/20 Batch 3/3 Cost: 0.047180\n",
            "Epoch   20/20 Batch 1/3 Cost: 0.052634\n",
            "Epoch   20/20 Batch 2/3 Cost: 0.528745\n",
            "Epoch   20/20 Batch 3/3 Cost: 0.014046\n",
            "Epoch   20/20 Batch 1/3 Cost: 0.116527\n",
            "Epoch   20/20 Batch 2/3 Cost: 0.043575\n",
            "Epoch   20/20 Batch 3/3 Cost: 0.976579\n",
            "Epoch   20/20 Batch 1/3 Cost: 0.507152\n",
            "Epoch   20/20 Batch 2/3 Cost: 0.044356\n",
            "Epoch   20/20 Batch 3/3 Cost: 0.217999\n",
            "Epoch   20/20 Batch 1/3 Cost: 0.491854\n",
            "Epoch   20/20 Batch 2/3 Cost: 0.226925\n",
            "Epoch   20/20 Batch 3/3 Cost: 0.066735\n",
            "Epoch   20/20 Batch 1/3 Cost: 0.048714\n",
            "Epoch   20/20 Batch 2/3 Cost: 0.563030\n",
            "Epoch   20/20 Batch 3/3 Cost: 0.006366\n",
            "Epoch   20/20 Batch 1/3 Cost: 0.129833\n",
            "Epoch   20/20 Batch 2/3 Cost: 0.578195\n",
            "Epoch   20/20 Batch 3/3 Cost: 0.009279\n",
            "Epoch   20/20 Batch 1/3 Cost: 0.416764\n",
            "Epoch   20/20 Batch 2/3 Cost: 0.193793\n",
            "Epoch   20/20 Batch 3/3 Cost: 0.005477\n",
            "Epoch   20/20 Batch 1/3 Cost: 0.444442\n",
            "Epoch   20/20 Batch 2/3 Cost: 0.249349\n",
            "Epoch   20/20 Batch 3/3 Cost: 0.076497\n",
            "Epoch   20/20 Batch 1/3 Cost: 0.090593\n",
            "Epoch   20/20 Batch 2/3 Cost: 0.007172\n",
            "Epoch   20/20 Batch 3/3 Cost: 1.109985\n",
            "Epoch   20/20 Batch 1/3 Cost: 0.496705\n",
            "Epoch   20/20 Batch 2/3 Cost: 0.034244\n",
            "Epoch   20/20 Batch 3/3 Cost: 0.200006\n",
            "Epoch   20/20 Batch 1/3 Cost: 0.498592\n",
            "Epoch   20/20 Batch 2/3 Cost: 0.310785\n",
            "Epoch   20/20 Batch 3/3 Cost: 0.000090\n",
            "Epoch   20/20 Batch 1/3 Cost: 0.491363\n",
            "Epoch   20/20 Batch 2/3 Cost: 0.236544\n",
            "Epoch   20/20 Batch 3/3 Cost: 0.076522\n",
            "Epoch   20/20 Batch 1/3 Cost: 0.109185\n",
            "Epoch   20/20 Batch 2/3 Cost: 0.547940\n",
            "Epoch   20/20 Batch 3/3 Cost: 0.191206\n",
            "Epoch   20/20 Batch 1/3 Cost: 0.548895\n",
            "Epoch   20/20 Batch 2/3 Cost: 0.052462\n",
            "Epoch   20/20 Batch 3/3 Cost: 0.002414\n",
            "Epoch   20/20 Batch 1/3 Cost: 0.017735\n",
            "Epoch   20/20 Batch 2/3 Cost: 0.519485\n",
            "Epoch   20/20 Batch 3/3 Cost: 0.124090\n",
            "Epoch   20/20 Batch 1/3 Cost: 0.504867\n",
            "Epoch   20/20 Batch 2/3 Cost: 0.225579\n",
            "Epoch   20/20 Batch 3/3 Cost: 0.079841\n",
            "Epoch   20/20 Batch 1/3 Cost: 0.517857\n",
            "Epoch   20/20 Batch 2/3 Cost: 0.065170\n",
            "Epoch   20/20 Batch 3/3 Cost: 0.004323\n",
            "Epoch   20/20 Batch 1/3 Cost: 0.448082\n",
            "Epoch   20/20 Batch 2/3 Cost: 0.246676\n",
            "Epoch   20/20 Batch 3/3 Cost: 0.075471\n",
            "Epoch   20/20 Batch 1/3 Cost: 0.571568\n",
            "Epoch   20/20 Batch 2/3 Cost: 0.105036\n",
            "Epoch   20/20 Batch 3/3 Cost: 0.204908\n"
          ],
          "name": "stdout"
        }
      ]
    }
  ]
}